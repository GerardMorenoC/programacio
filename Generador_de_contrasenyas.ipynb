{
  "nbformat": 4,
  "nbformat_minor": 0,
  "metadata": {
    "colab": {
      "provenance": [],
      "authorship_tag": "ABX9TyOFVHtNVPHxF10EIf8vUrEE",
      "include_colab_link": true
    },
    "kernelspec": {
      "name": "python3",
      "display_name": "Python 3"
    },
    "language_info": {
      "name": "python"
    }
  },
  "cells": [
    {
      "cell_type": "markdown",
      "metadata": {
        "id": "view-in-github",
        "colab_type": "text"
      },
      "source": [
        "<a href=\"https://colab.research.google.com/github/GerardMorenoC/programacio/blob/main/Generador_de_contrasenyas.ipynb\" target=\"_parent\"><img src=\"https://colab.research.google.com/assets/colab-badge.svg\" alt=\"Open In Colab\"/></a>"
      ]
    },
    {
      "cell_type": "markdown",
      "source": [
        "Generador random"
      ],
      "metadata": {
        "id": "qWJOSYZEqnBO"
      }
    },
    {
      "cell_type": "code",
      "execution_count": 9,
      "metadata": {
        "colab": {
          "base_uri": "https://localhost:8080/"
        },
        "id": "HW2Acd6_rFf_",
        "outputId": "c195e245-e81e-4cb1-88ee-8b17831dbf8d"
      },
      "outputs": [
        {
          "output_type": "stream",
          "name": "stdout",
          "text": [
            "F+MAc[}G7rJb\n"
          ]
        }
      ],
      "source": [
        "from random import sample\n",
        "\n",
        "def pasword_generator(longitud):\n",
        "  minusculas=\"abcdefghijklmnopqrstuvwxyz\"\n",
        "  mayusculas=minusculas.upper()\n",
        "  numeros=\"0123456789\"\n",
        "  caracteres=\",.-_:;+{}[]*\"\n",
        "  secuencia=minusculas+mayusculas+numeros+caracteres\n",
        "  union= sample(secuencia, longitud)\n",
        "  resultado= \"\".join(union)\n",
        "  return resultado\n",
        "contrasenya=pasword_generator(12)\n",
        "print(contrasenya)"
      ]
    },
    {
      "cell_type": "markdown",
      "source": [
        "Generador amb sempre la mateixa contrasenya"
      ],
      "metadata": {
        "id": "UaeJ6Wgbqpys"
      }
    },
    {
      "cell_type": "code",
      "source": [
        "def gen_contrasenya():\n",
        "  contrasenya=\"JuP?20d_q\"\n",
        "\n",
        "  return contrasenya\n",
        "contrasenya=gen_contrasenya()\n",
        "print(\"Contrasenya generada\", contrasenya)"
      ],
      "metadata": {
        "colab": {
          "base_uri": "https://localhost:8080/"
        },
        "id": "BWnTEH2JuIRQ",
        "outputId": "ebb0d5b2-7200-46b9-d66a-5524a585d003"
      },
      "execution_count": null,
      "outputs": [
        {
          "output_type": "stream",
          "name": "stdout",
          "text": [
            "Contrasenya generada JuP?20d_q\n"
          ]
        }
      ]
    }
  ]
}