{
  "nbformat": 4,
  "nbformat_minor": 0,
  "metadata": {
    "colab": {
      "provenance": [],
      "authorship_tag": "ABX9TyNGKzdePo0rgV/PdgLymjmy",
      "include_colab_link": true
    },
    "kernelspec": {
      "name": "python3",
      "display_name": "Python 3"
    },
    "language_info": {
      "name": "python"
    }
  },
  "cells": [
    {
      "cell_type": "markdown",
      "metadata": {
        "id": "view-in-github",
        "colab_type": "text"
      },
      "source": [
        "<a href=\"https://colab.research.google.com/github/GerardMorenoC/programacio/blob/main/exercicis_2.ipynb\" target=\"_parent\"><img src=\"https://colab.research.google.com/assets/colab-badge.svg\" alt=\"Open In Colab\"/></a>"
      ]
    },
    {
      "cell_type": "code",
      "source": [
        "costats=3\n",
        "area=costats*costats\n",
        "resposta=f'La superficie mesura {area}cm'\n",
        "print(resposta)"
      ],
      "metadata": {
        "id": "uyp6SEfAwI5G"
      },
      "execution_count": null,
      "outputs": []
    },
    {
      "cell_type": "code",
      "source": [
        "distancia=5\n",
        "costats=4\n",
        "perimetre=costats*distancia\n",
        "resposta=f'El perimetre mesura {perimetre}cm'\n",
        "print(resposta)"
      ],
      "metadata": {
        "id": "WmlziSgAwGMJ"
      },
      "execution_count": null,
      "outputs": []
    },
    {
      "cell_type": "code",
      "execution_count": 1,
      "metadata": {
        "colab": {
          "base_uri": "https://localhost:8080/"
        },
        "id": "T2kAeh4Wvwu1",
        "outputId": "ce808dc1-80b9-42a0-b17f-1db04b54d7a3"
      },
      "outputs": [
        {
          "output_type": "stream",
          "name": "stdout",
          "text": [
            "La suma de les variables es 16\n"
          ]
        }
      ],
      "source": [
        "a = 2\n",
        "b = 3\n",
        "c = 6\n",
        "d = 5\n",
        "\n",
        "suma=a+b+c+d\n",
        "resposta1=f'La suma de les variables es {suma}'\n",
        "print(resposta1)\n",
        "\n",
        "suma_dos_primers=a+b\n",
        "suma_dos_ultims=c+d\n",
        "multiplicació=suma_dos_primers*suma_dos_ultims\n",
        "resposta2=f'La multiplicació de les dos primeres variables per les dos segones variables es {multiplicació}'\n",
        "print(resposta2)"
      ]
    }
  ]
}