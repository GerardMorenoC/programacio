{
  "nbformat": 4,
  "nbformat_minor": 0,
  "metadata": {
    "colab": {
      "provenance": [],
      "authorship_tag": "ABX9TyON8HZ5b+1a+suCVMyCDu1F",
      "include_colab_link": true
    },
    "kernelspec": {
      "name": "python3",
      "display_name": "Python 3"
    },
    "language_info": {
      "name": "python"
    }
  },
  "cells": [
    {
      "cell_type": "markdown",
      "metadata": {
        "id": "view-in-github",
        "colab_type": "text"
      },
      "source": [
        "<a href=\"https://colab.research.google.com/github/GerardMorenoC/programacio/blob/main/exercicis_mates.ipynb\" target=\"_parent\"><img src=\"https://colab.research.google.com/assets/colab-badge.svg\" alt=\"Open In Colab\"/></a>"
      ]
    },
    {
      "cell_type": "code",
      "source": [
        "costats=int(input('Quant mesura un costat? '))\n",
        "area=costats*costats\n",
        "resposta=f'La superficie mesura {area}cm'\n",
        "print(resposta)"
      ],
      "metadata": {
        "id": "uyp6SEfAwI5G",
        "colab": {
          "base_uri": "https://localhost:8080/"
        },
        "outputId": "f4a5aa70-0dc3-4a96-ab81-e40a9e883a1d"
      },
      "execution_count": null,
      "outputs": [
        {
          "output_type": "stream",
          "name": "stdout",
          "text": [
            "Quant mesura un costat?3\n",
            "La superficie mesura 9cm\n"
          ]
        }
      ]
    },
    {
      "cell_type": "code",
      "source": [
        "distancia=int(input('Quant mesura un costat? '))\n",
        "costats=4\n",
        "perimetre=costats*distancia\n",
        "resposta=f'El perimetre mesura {perimetre}cm'\n",
        "print(resposta)"
      ],
      "metadata": {
        "id": "WmlziSgAwGMJ",
        "colab": {
          "base_uri": "https://localhost:8080/"
        },
        "outputId": "002cf87d-fcf1-4da0-9611-66f4ea597d1e"
      },
      "execution_count": null,
      "outputs": [
        {
          "output_type": "stream",
          "name": "stdout",
          "text": [
            "Quant mesura un costat? 5\n",
            "El perimetre mesura 20cm\n"
          ]
        }
      ]
    },
    {
      "cell_type": "code",
      "execution_count": null,
      "metadata": {
        "colab": {
          "base_uri": "https://localhost:8080/"
        },
        "id": "T2kAeh4Wvwu1",
        "outputId": "68d47c1e-70d4-4e6e-bd11-778eb5ae7d0b"
      },
      "outputs": [
        {
          "output_type": "stream",
          "name": "stdout",
          "text": [
            "La suma de les variables es 16\n",
            "La multiplicació de les dos primeres variables per les dos segones variables es 55\n"
          ]
        }
      ],
      "source": [
        "a = 2\n",
        "b = 3\n",
        "c = 6\n",
        "d = 5\n",
        "\n",
        "suma=a+b+c+d\n",
        "resposta1=f'La suma de les variables es {suma}'\n",
        "print(resposta1)\n",
        "\n",
        "suma_dos_primers=a+b\n",
        "suma_dos_ultims=c+d\n",
        "multiplicació=suma_dos_primers*suma_dos_ultims\n",
        "resposta2=f'La multiplicació de les dos primeres variables per les dos segones variables es {multiplicació}'\n",
        "print(resposta2)"
      ]
    }
  ]
}