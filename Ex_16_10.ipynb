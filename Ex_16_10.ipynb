{
  "nbformat": 4,
  "nbformat_minor": 0,
  "metadata": {
    "colab": {
      "provenance": [],
      "authorship_tag": "ABX9TyOkHiCB+HC3Ui+1wgoqaUvV",
      "include_colab_link": true
    },
    "kernelspec": {
      "name": "python3",
      "display_name": "Python 3"
    },
    "language_info": {
      "name": "python"
    }
  },
  "cells": [
    {
      "cell_type": "markdown",
      "metadata": {
        "id": "view-in-github",
        "colab_type": "text"
      },
      "source": [
        "<a href=\"https://colab.research.google.com/github/GerardMorenoC/programacio/blob/main/Ex_16_10.ipynb\" target=\"_parent\"><img src=\"https://colab.research.google.com/assets/colab-badge.svg\" alt=\"Open In Colab\"/></a>"
      ]
    },
    {
      "cell_type": "markdown",
      "source": [
        "Li heu de demanar a un alumne que os doni 3 notes, calculi el promitg de les 3 notes i que ens digui si el promig es mes gran de 7 o igual=supera el curs, si es troba entre 4 i 7=has de estudiar mes, entre el 0 y 4= has de recuperar."
      ],
      "metadata": {
        "id": "vVc7HNh42kDj"
      }
    },
    {
      "cell_type": "code",
      "source": [
        "num1=float(input('Que notes has tret? '))\n",
        "num2=float(input('Que notes has tret? '))\n",
        "num3=float(input('Que notes has tret? '))\n",
        "\n",
        "calcul_mitjana1=num1+num2+num3\n",
        "calcul_mitjana=calcul_mitjana1/3\n",
        "\n",
        "if calcul_mitjana>=7:\n",
        "  print('Superas el curs')\n",
        "if 7>=calcul_mitjana<4:\n",
        "  print('Estudia més')\n",
        "if calcul_mitjana<4:\n",
        "  print('Has de recuperar')"
      ],
      "metadata": {
        "id": "JLsvncxv2m1g"
      },
      "execution_count": null,
      "outputs": []
    },
    {
      "cell_type": "markdown",
      "source": [
        "li demanem 3 numeros i ens ha de mostrar el superior en pantalla."
      ],
      "metadata": {
        "id": "DyXBZnWb2jP7"
      }
    },
    {
      "cell_type": "code",
      "source": [
        "num1=int(input('Digues un numero '))\n",
        "num2=int(input('Digues un altre numero '))\n",
        "num3=int(input('Digues un altre numero '))\n",
        "\n",
        "if num1>num2>num3:\n",
        "  print('El numero 1 es més gran')\n",
        "elif num2>num1>num3:\n",
        "  print('El numero 2 es més gran')\n",
        "if num3>num2>num1:\n",
        "  print('El numero 3 es més gran')\n"
      ],
      "metadata": {
        "id": "AKCIBBYC2aPA"
      },
      "execution_count": null,
      "outputs": []
    },
    {
      "cell_type": "markdown",
      "source": [
        "Dir si el valor que posem es positiu o negatiu."
      ],
      "metadata": {
        "id": "iFzYbMG32eF6"
      }
    },
    {
      "cell_type": "code",
      "execution_count": null,
      "metadata": {
        "id": "3AmOsX2W2WaJ"
      },
      "outputs": [],
      "source": [
        "valor=int(input('Quin numero vols? '))\n",
        "if valor > 0:\n",
        "    print(\"El valor es positiu.\")\n",
        "elif valor < 0:\n",
        "    print(\"El valor es negatiu.\")\n",
        "else:\n",
        "    print(\"El valor es cero.\")"
      ]
    }
  ]
}