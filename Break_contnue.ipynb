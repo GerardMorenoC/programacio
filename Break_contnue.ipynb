{
  "nbformat": 4,
  "nbformat_minor": 0,
  "metadata": {
    "colab": {
      "provenance": [],
      "authorship_tag": "ABX9TyNLlM0ELLpg/prutKFJ/PWG",
      "include_colab_link": true
    },
    "kernelspec": {
      "name": "python3",
      "display_name": "Python 3"
    },
    "language_info": {
      "name": "python"
    }
  },
  "cells": [
    {
      "cell_type": "markdown",
      "metadata": {
        "id": "view-in-github",
        "colab_type": "text"
      },
      "source": [
        "<a href=\"https://colab.research.google.com/github/GerardMorenoC/programacio/blob/main/Break_contnue.ipynb\" target=\"_parent\"><img src=\"https://colab.research.google.com/assets/colab-badge.svg\" alt=\"Open In Colab\"/></a>"
      ]
    },
    {
      "cell_type": "markdown",
      "source": [
        "Fer una variable que sigui python. fer un bucle for en que cridem la paraula python. quan arribi a la \"H\" deixi de printar i printi (break).:"
      ],
      "metadata": {
        "id": "wTLpL6D_uwzj"
      }
    },
    {
      "cell_type": "code",
      "execution_count": 23,
      "metadata": {
        "colab": {
          "base_uri": "https://localhost:8080/"
        },
        "id": "VbDxMRVBuNuc",
        "outputId": "5a704584-1a3a-4090-a339-719f7625adc4"
      },
      "outputs": [
        {
          "output_type": "stream",
          "name": "stdout",
          "text": [
            "p\n",
            "y\n",
            "t\n",
            "h\n"
          ]
        }
      ],
      "source": [
        "x=\"python\"\n",
        "for lletres in x:\n",
        "  print(lletres)\n",
        "  if lletres ==\"h\":\n",
        "    break\n"
      ]
    },
    {
      "cell_type": "markdown",
      "source": [
        "Fer una variable que sigui python. fer un bucle for en que cridem la paraula python. que printi pyton sense \"H\" (continue)"
      ],
      "metadata": {
        "id": "9GDdt6lWvoqE"
      }
    },
    {
      "cell_type": "code",
      "source": [
        "x=\"python\"\n",
        "for lletres in x:\n",
        "  if lletres ==\"h\":\n",
        "    continue\n",
        "  print(lletres)"
      ],
      "metadata": {
        "colab": {
          "base_uri": "https://localhost:8080/"
        },
        "id": "xqa51z_6yPNm",
        "outputId": "312c7a00-5df0-40dd-996f-2baffc1101e8"
      },
      "execution_count": 27,
      "outputs": [
        {
          "output_type": "stream",
          "name": "stdout",
          "text": [
            "p\n",
            "y\n",
            "t\n",
            "o\n",
            "n\n"
          ]
        }
      ]
    },
    {
      "cell_type": "markdown",
      "source": [
        "imprimir les lletres de la paraula supercalifragilisticoespiralidoso. printar sense les \"a\""
      ],
      "metadata": {
        "id": "LNhL0Qs3v1oh"
      }
    },
    {
      "cell_type": "code",
      "source": [
        "paraula=\"supercalifragilisticoespiralidoso\"\n",
        "for lletres in paraula:\n",
        "  if lletres==\"a\":\n",
        "    continue\n",
        "  print(lletres)"
      ],
      "metadata": {
        "colab": {
          "base_uri": "https://localhost:8080/"
        },
        "id": "D7zDStnRzWLU",
        "outputId": "f8ee758f-097d-407d-be58-ef8c182aca3d"
      },
      "execution_count": 33,
      "outputs": [
        {
          "output_type": "stream",
          "name": "stdout",
          "text": [
            "s\n",
            "u\n",
            "p\n",
            "e\n",
            "r\n",
            "c\n",
            "l\n",
            "i\n",
            "f\n",
            "r\n",
            "g\n",
            "i\n",
            "l\n",
            "i\n",
            "s\n",
            "t\n",
            "i\n",
            "c\n",
            "o\n",
            "e\n",
            "s\n",
            "p\n",
            "i\n",
            "r\n",
            "l\n",
            "i\n",
            "d\n",
            "o\n",
            "s\n",
            "o\n"
          ]
        }
      ]
    },
    {
      "cell_type": "markdown",
      "source": [
        "imprimir mitjançant un bucle la llista de les seguents ciutats: Barcelona,Murcia,Valencia,Toledo,Bilbao,Salamanca,Teruel,Burgos,Tarragona,Sevilla,Valladolid.  printar les ciutats sempre i quan la llargada de la paraula sigui diferent a 6 lletres. (continue)"
      ],
      "metadata": {
        "id": "IIA_Q9htwFPA"
      }
    },
    {
      "cell_type": "code",
      "source": [
        "llista=[\"Barcelona\", \"Murcia\", \"Valencia\",\"Toledo\", \"Bilbao\",\"Salamanca\", \"Teruel\",\"Burgos\",\"Tarragona\",\"Sevilla\",\"Valladolid\"]\n",
        "for ciutats in llista:\n",
        "  if len(ciutats)==6:\n",
        "    continue\n",
        "  print(ciutats)"
      ],
      "metadata": {
        "colab": {
          "base_uri": "https://localhost:8080/"
        },
        "id": "26BhlY2Dztvr",
        "outputId": "9d26c2a7-0eb0-4930-e2b9-074671c044e3"
      },
      "execution_count": 34,
      "outputs": [
        {
          "output_type": "stream",
          "name": "stdout",
          "text": [
            "Barcelona\n",
            "Valencia\n",
            "Salamanca\n",
            "Tarragona\n",
            "Sevilla\n",
            "Valladolid\n"
          ]
        }
      ]
    }
  ]
}