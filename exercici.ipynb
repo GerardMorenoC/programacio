{
  "nbformat": 4,
  "nbformat_minor": 0,
  "metadata": {
    "colab": {
      "provenance": [],
      "authorship_tag": "ABX9TyO5Y1sVgJgrDPE6K0+f1sr7",
      "include_colab_link": true
    },
    "kernelspec": {
      "name": "python3",
      "display_name": "Python 3"
    },
    "language_info": {
      "name": "python"
    }
  },
  "cells": [
    {
      "cell_type": "markdown",
      "metadata": {
        "id": "view-in-github",
        "colab_type": "text"
      },
      "source": [
        "<a href=\"https://colab.research.google.com/github/GerardMorenoC/programacio/blob/main/exercici.ipynb\" target=\"_parent\"><img src=\"https://colab.research.google.com/assets/colab-badge.svg\" alt=\"Open In Colab\"/></a>"
      ]
    },
    {
      "cell_type": "code",
      "source": [
        "x='Hola món'\n",
        "print(x)"
      ],
      "metadata": {
        "colab": {
          "base_uri": "https://localhost:8080/"
        },
        "id": "6hnRVgMXILfx",
        "outputId": "e6c4025b-77c5-4b6d-e712-00e7e5251b6d"
      },
      "execution_count": null,
      "outputs": [
        {
          "output_type": "stream",
          "name": "stdout",
          "text": [
            "Hola món\n"
          ]
        }
      ]
    },
    {
      "cell_type": "code",
      "source": [
        "pallassos= int(input('Posa el nombre de pallassos venuts:'))\n",
        "nines=int(input('Posa el nombre de nines venudes:'))\n",
        "\n",
        "print('pes total:')\n",
        "print(pallassos * 112 + nines * 75)\n"
      ],
      "metadata": {
        "id": "nXW3nrNsr-0M",
        "colab": {
          "base_uri": "https://localhost:8080/"
        },
        "outputId": "89f32d0e-7597-43a1-fabd-de47df278cd5"
      },
      "execution_count": null,
      "outputs": [
        {
          "output_type": "stream",
          "name": "stdout",
          "text": [
            "Posa el nombre de pallassos venuts:2\n",
            "Posa el nombre de nines venudes:2\n",
            "pes total:\n",
            "374\n"
          ]
        }
      ]
    },
    {
      "cell_type": "markdown",
      "source": [
        "Escriu un programa que pregunti el nom de l'usuari. Quan l'usuari introdueixi el nom en la resposta s'ens ha d'imprimir una resposta que posi 'hola' i la resposta de la pregunta que hem fet."
      ],
      "metadata": {
        "id": "sKzw0xNVI6TJ"
      }
    },
    {
      "cell_type": "code",
      "source": [
        "pregunta=(input('Com et dius?'))\n",
        "resposta= f'Hola {pregunta}'\n",
        "print(resposta)"
      ],
      "metadata": {
        "colab": {
          "base_uri": "https://localhost:8080/"
        },
        "id": "tDN5VaDWJNbo",
        "outputId": "6fd19b7d-2618-4106-ce8c-55c86ed0e223"
      },
      "execution_count": null,
      "outputs": [
        {
          "output_type": "stream",
          "name": "stdout",
          "text": [
            "Com et dius? Gerard\n",
            "Hola  Gerard\n"
          ]
        }
      ]
    },
    {
      "cell_type": "markdown",
      "source": [
        "Un programa que li pregunti a un usuari les hores que treballa i el preu per hora. Print quant cobro."
      ],
      "metadata": {
        "id": "629BF7X9N-z-"
      }
    },
    {
      "cell_type": "code",
      "source": [
        "hores=int(input('Quantes hores treballes? '))\n",
        "diners=float(input('Quant cobres per hora? '))\n",
        "calcul=diners*hores\n",
        "resposta=f'Cobra {calcul}€'\n",
        "print(resposta)"
      ],
      "metadata": {
        "colab": {
          "base_uri": "https://localhost:8080/"
        },
        "id": "1YgEPYyZRkkY",
        "outputId": "2dbb0dfe-f01d-485d-e087-578039c56def"
      },
      "execution_count": null,
      "outputs": [
        {
          "output_type": "stream",
          "name": "stdout",
          "text": [
            "Quantes hores treballes? 150\n",
            "Quant cobres per hora? 20\n",
            "Cobra 3000.0€\n"
          ]
        }
      ]
    },
    {
      "cell_type": "code",
      "source": [
        "x=10\n",
        "print(type(x))\n",
        "y=10.2\n",
        "print(type(y))\n",
        "z=2,4\n",
        "print(type(z))"
      ],
      "metadata": {
        "colab": {
          "base_uri": "https://localhost:8080/"
        },
        "id": "N-0e0T2lmrvj",
        "outputId": "1d94f651-335c-499c-ab93-01a9757aec64"
      },
      "execution_count": null,
      "outputs": [
        {
          "output_type": "stream",
          "name": "stdout",
          "text": [
            "<class 'int'>\n",
            "<class 'float'>\n",
            "<class 'tuple'>\n"
          ]
        }
      ]
    },
    {
      "cell_type": "markdown",
      "source": [
        "Pregunteu a la variable mitjançant el type quin tipus de funció és.\n",
        "Un cop li hagueu preguntat si la resposta és un numero sencer cal que el programa us digui 'escriu el nombre no sencer o decimal' sinó, caldra que imprimeixi el valor de \"nines\"."
      ],
      "metadata": {
        "id": "v56o75Igrs4r"
      }
    },
    {
      "cell_type": "code",
      "source": [
        "hores=int(input('Quantes hores treballes? '))\n",
        "diners=float(input('Quant cobres per hora? '))\n",
        "calcul=diners*hores\n",
        "resposta=f'Cobra {calcul}€'\n",
        "print(resposta)"
      ],
      "metadata": {
        "id": "ZWQU3uM8sOAE"
      },
      "execution_count": null,
      "outputs": []
    },
    {
      "cell_type": "markdown",
      "source": [
        "variables: llibres 5€, punt de llibre 1.5€, portallibres 10€.\n",
        "calculs\n",
        "variables a part\n",
        "-sí -sinó"
      ],
      "metadata": {
        "id": "mu2pZX--sZTh"
      }
    }
  ]
}