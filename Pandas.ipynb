{
  "cells": [
    {
      "cell_type": "markdown",
      "metadata": {
        "id": "view-in-github",
        "colab_type": "text"
      },
      "source": [
        "<a href=\"https://colab.research.google.com/github/GerardMorenoC/programacio/blob/main/Pandas.ipynb\" target=\"_parent\"><img src=\"https://colab.research.google.com/assets/colab-badge.svg\" alt=\"Open In Colab\"/></a>"
      ]
    },
    {
      "cell_type": "markdown",
      "metadata": {
        "id": "pOI5Eh0bMwyb"
      },
      "source": [
        "Serveix per treballar amb dades. Tenen 3 tipus de estructures.\n",
        "-Series:estructures d'una dimensió que porten el seu index asociat a les segones.\n",
        "-Data frames:son estructures de dues dimensions.\n",
        "-Panells:son estructures de tres dimensions."
      ]
    },
    {
      "cell_type": "code",
      "execution_count": null,
      "metadata": {
        "colab": {
          "base_uri": "https://localhost:8080/"
        },
        "id": "DuPNzUMiMjh-",
        "outputId": "8271bd69-0c71-4781-8861-de9e4701c7ff"
      },
      "outputs": [
        {
          "output_type": "stream",
          "name": "stdout",
          "text": [
            "Requirement already satisfied: pandas in /usr/local/lib/python3.10/dist-packages (2.2.2)\n",
            "Requirement already satisfied: numpy>=1.22.4 in /usr/local/lib/python3.10/dist-packages (from pandas) (1.26.4)\n",
            "Requirement already satisfied: python-dateutil>=2.8.2 in /usr/local/lib/python3.10/dist-packages (from pandas) (2.8.2)\n",
            "Requirement already satisfied: pytz>=2020.1 in /usr/local/lib/python3.10/dist-packages (from pandas) (2024.2)\n",
            "Requirement already satisfied: tzdata>=2022.7 in /usr/local/lib/python3.10/dist-packages (from pandas) (2024.2)\n",
            "Requirement already satisfied: six>=1.5 in /usr/local/lib/python3.10/dist-packages (from python-dateutil>=2.8.2->pandas) (1.16.0)\n"
          ]
        }
      ],
      "source": [
        "!pip install pandas"
      ]
    },
    {
      "cell_type": "code",
      "source": [
        "import pandas as pd\n",
        "\n",
        "setmana= pd.Series([\"Dilluns\",\"Dimarts\",\"Dimecres\",\"Dijous\",\"Divendres\",\"Dissabte\",\"Diumenge\"])\n",
        "print(setmana)"
      ],
      "metadata": {
        "colab": {
          "base_uri": "https://localhost:8080/"
        },
        "id": "D60kMq5RRdf4",
        "outputId": "b4df8607-6100-4e6f-8467-aa3b7f247d6a"
      },
      "execution_count": null,
      "outputs": [
        {
          "output_type": "stream",
          "name": "stdout",
          "text": [
            "0      Dilluns\n",
            "1      Dimarts\n",
            "2     Dimecres\n",
            "3       Dijous\n",
            "4    Divendres\n",
            "5     Dissabte\n",
            "6     Diumenge\n",
            "dtype: object\n"
          ]
        }
      ]
    },
    {
      "cell_type": "code",
      "source": [
        "import pandas as pd\n",
        "\n",
        "setmana= pd.Series([\"Dilluns\",\"Dimarts\",\"Dimecres\",\"Dijous\",\"Divendres\",\"Dissabte\",\"Diumenge\"])\n",
        "print(setmana)"
      ],
      "metadata": {
        "colab": {
          "base_uri": "https://localhost:8080/"
        },
        "id": "dQJcQJJAUonA",
        "outputId": "fb0b8da6-f943-4566-fc79-c83d324eb590"
      },
      "execution_count": null,
      "outputs": [
        {
          "output_type": "stream",
          "name": "stdout",
          "text": [
            "0      Dilluns\n",
            "1      Dimarts\n",
            "2     Dimecres\n",
            "3       Dijous\n",
            "4    Divendres\n",
            "5     Dissabte\n",
            "6     Diumenge\n",
            "dtype: object 0\n"
          ]
        }
      ]
    },
    {
      "cell_type": "markdown",
      "source": [
        "Serie numerica: 12,58,63,47,81,35\n",
        "\n",
        "mirar la llargada de la serie numerica (size)\n",
        "\n",
        "sumar tots els numeros (sum) cal que la suma digui \"l'import total es {sum}\""
      ],
      "metadata": {
        "id": "8ewS8-RKxkq6"
      }
    },
    {
      "cell_type": "code",
      "source": [
        "import pandas as pd\n",
        "numeros= pd.Series([12,58,63,47,81,35])\n",
        "numeros.size"
      ],
      "metadata": {
        "colab": {
          "base_uri": "https://localhost:8080/"
        },
        "id": "qk1mDFwBxq0n",
        "outputId": "d3c50dae-1edf-45ef-94cd-58bc2dca1e3a"
      },
      "execution_count": null,
      "outputs": [
        {
          "output_type": "execute_result",
          "data": {
            "text/plain": [
              "6"
            ]
          },
          "metadata": {},
          "execution_count": 3
        }
      ]
    },
    {
      "cell_type": "markdown",
      "source": [],
      "metadata": {
        "id": "FNXasmsux7tb"
      }
    },
    {
      "cell_type": "code",
      "source": [
        "import pandas as pd\n",
        "numeros= pd.Series([12,58,63,47,81,35])\n",
        "suma=numeros.sum()\n",
        "print(f\"L'import total és {suma}\")"
      ],
      "metadata": {
        "colab": {
          "base_uri": "https://localhost:8080/"
        },
        "id": "8KvcY4dVzEkq",
        "outputId": "55280539-facb-40d5-995f-e8c28e392906"
      },
      "execution_count": null,
      "outputs": [
        {
          "output_type": "stream",
          "name": "stdout",
          "text": [
            "L'import total és 296\n"
          ]
        }
      ]
    },
    {
      "cell_type": "code",
      "source": [
        "import pandas as pd\n",
        "numeros= pd.Series([12,58,63,47,81,35])\n",
        "numeros.mean()           #mitjana\n",
        "round(numeros.mean(),2)  #redondear"
      ],
      "metadata": {
        "id": "2tA-tNME0sJx",
        "colab": {
          "base_uri": "https://localhost:8080/"
        },
        "outputId": "25b129af-5ca2-46d1-c040-30c57c2854aa"
      },
      "execution_count": null,
      "outputs": [
        {
          "output_type": "execute_result",
          "data": {
            "text/plain": [
              "49.33"
            ]
          },
          "metadata": {},
          "execution_count": 18
        }
      ]
    },
    {
      "cell_type": "code",
      "source": [
        "import pandas as pd\n",
        "numeros= pd.Series([12,58,63,47,81,35])\n",
        "maxim=numeros.max()\n",
        "minim=numeros.min()\n",
        "print(maxim)\n",
        "print(minim)"
      ],
      "metadata": {
        "colab": {
          "base_uri": "https://localhost:8080/"
        },
        "id": "LCoMtn2c3hy0",
        "outputId": "98f240ef-6b8c-41e9-a3b3-5a7f9fb0afc3"
      },
      "execution_count": null,
      "outputs": [
        {
          "output_type": "stream",
          "name": "stdout",
          "text": [
            "81\n",
            "12\n"
          ]
        }
      ]
    },
    {
      "cell_type": "code",
      "source": [
        "import pandas as pd\n",
        "numeros= pd.Series([12,58,63,47,81,35])\n",
        "numeros.cumsum()"
      ],
      "metadata": {
        "colab": {
          "base_uri": "https://localhost:8080/",
          "height": 272
        },
        "id": "XhGEOJyu3tt3",
        "outputId": "405be310-5cff-42a6-b40f-4c533a89b7ac"
      },
      "execution_count": null,
      "outputs": [
        {
          "output_type": "execute_result",
          "data": {
            "text/plain": [
              "0     12\n",
              "1     70\n",
              "2    133\n",
              "3    180\n",
              "4    261\n",
              "5    296\n",
              "dtype: int64"
            ],
            "text/html": [
              "<div>\n",
              "<style scoped>\n",
              "    .dataframe tbody tr th:only-of-type {\n",
              "        vertical-align: middle;\n",
              "    }\n",
              "\n",
              "    .dataframe tbody tr th {\n",
              "        vertical-align: top;\n",
              "    }\n",
              "\n",
              "    .dataframe thead th {\n",
              "        text-align: right;\n",
              "    }\n",
              "</style>\n",
              "<table border=\"1\" class=\"dataframe\">\n",
              "  <thead>\n",
              "    <tr style=\"text-align: right;\">\n",
              "      <th></th>\n",
              "      <th>0</th>\n",
              "    </tr>\n",
              "  </thead>\n",
              "  <tbody>\n",
              "    <tr>\n",
              "      <th>0</th>\n",
              "      <td>12</td>\n",
              "    </tr>\n",
              "    <tr>\n",
              "      <th>1</th>\n",
              "      <td>70</td>\n",
              "    </tr>\n",
              "    <tr>\n",
              "      <th>2</th>\n",
              "      <td>133</td>\n",
              "    </tr>\n",
              "    <tr>\n",
              "      <th>3</th>\n",
              "      <td>180</td>\n",
              "    </tr>\n",
              "    <tr>\n",
              "      <th>4</th>\n",
              "      <td>261</td>\n",
              "    </tr>\n",
              "    <tr>\n",
              "      <th>5</th>\n",
              "      <td>296</td>\n",
              "    </tr>\n",
              "  </tbody>\n",
              "</table>\n",
              "</div><br><label><b>dtype:</b> int64</label>"
            ]
          },
          "metadata": {},
          "execution_count": 21
        }
      ]
    },
    {
      "cell_type": "code",
      "source": [
        "import pandas as pd\n",
        "numeros= pd.Series([12,58,63,47,81,35])\n",
        "numeros.value_counts()"
      ],
      "metadata": {
        "colab": {
          "base_uri": "https://localhost:8080/",
          "height": 272
        },
        "id": "4kqz0aGi5VKx",
        "outputId": "747ae0bf-746e-4258-ee9c-b26e8112a6b2"
      },
      "execution_count": null,
      "outputs": [
        {
          "output_type": "execute_result",
          "data": {
            "text/plain": [
              "12    1\n",
              "58    1\n",
              "63    1\n",
              "47    1\n",
              "81    1\n",
              "35    1\n",
              "Name: count, dtype: int64"
            ],
            "text/html": [
              "<div>\n",
              "<style scoped>\n",
              "    .dataframe tbody tr th:only-of-type {\n",
              "        vertical-align: middle;\n",
              "    }\n",
              "\n",
              "    .dataframe tbody tr th {\n",
              "        vertical-align: top;\n",
              "    }\n",
              "\n",
              "    .dataframe thead th {\n",
              "        text-align: right;\n",
              "    }\n",
              "</style>\n",
              "<table border=\"1\" class=\"dataframe\">\n",
              "  <thead>\n",
              "    <tr style=\"text-align: right;\">\n",
              "      <th></th>\n",
              "      <th>count</th>\n",
              "    </tr>\n",
              "  </thead>\n",
              "  <tbody>\n",
              "    <tr>\n",
              "      <th>12</th>\n",
              "      <td>1</td>\n",
              "    </tr>\n",
              "    <tr>\n",
              "      <th>58</th>\n",
              "      <td>1</td>\n",
              "    </tr>\n",
              "    <tr>\n",
              "      <th>63</th>\n",
              "      <td>1</td>\n",
              "    </tr>\n",
              "    <tr>\n",
              "      <th>47</th>\n",
              "      <td>1</td>\n",
              "    </tr>\n",
              "    <tr>\n",
              "      <th>81</th>\n",
              "      <td>1</td>\n",
              "    </tr>\n",
              "    <tr>\n",
              "      <th>35</th>\n",
              "      <td>1</td>\n",
              "    </tr>\n",
              "  </tbody>\n",
              "</table>\n",
              "</div><br><label><b>dtype:</b> int64</label>"
            ]
          },
          "metadata": {},
          "execution_count": 22
        }
      ]
    },
    {
      "cell_type": "code",
      "source": [
        "import pandas as pd\n",
        "num=pd.Series([12,8,5,5,14,3,12,7])\n",
        "size=num.size\n",
        "print(size)\n",
        "\n",
        "suma=num.sum()\n",
        "print(suma)\n",
        "\n",
        "mitjana=num.mean()\n",
        "print(mitjana)\n",
        "\n",
        "arrodonir=round(num.mean(),2)\n",
        "print(arrodonir)\n",
        "\n",
        "maxim=num.max()\n",
        "minim=num.min()\n",
        "print(maxim)\n",
        "print(minim)\n",
        "\n",
        "cumsum=num.cumsum()\n",
        "print(cumsum)\n",
        "\n",
        "value=num.value_counts()\n",
        "print(value)"
      ],
      "metadata": {
        "colab": {
          "base_uri": "https://localhost:8080/"
        },
        "id": "qACTJSDT5nLG",
        "outputId": "c2be4af5-0b1b-467f-804a-3ca5738307b6"
      },
      "execution_count": 41,
      "outputs": [
        {
          "output_type": "stream",
          "name": "stdout",
          "text": [
            "8\n",
            "66\n",
            "8.25\n",
            "8.25\n",
            "14\n",
            "3\n",
            "0    12\n",
            "1    20\n",
            "2    25\n",
            "3    30\n",
            "4    44\n",
            "5    47\n",
            "6    59\n",
            "7    66\n",
            "dtype: int64\n"
          ]
        }
      ]
    }
  ],
  "metadata": {
    "colab": {
      "provenance": [],
      "authorship_tag": "ABX9TyPQBZV/kKEly9cOICUgBchK",
      "include_colab_link": true
    },
    "kernelspec": {
      "display_name": "Python 3",
      "name": "python3"
    },
    "language_info": {
      "name": "python"
    }
  },
  "nbformat": 4,
  "nbformat_minor": 0
}