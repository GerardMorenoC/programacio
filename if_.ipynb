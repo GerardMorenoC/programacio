{
  "nbformat": 4,
  "nbformat_minor": 0,
  "metadata": {
    "colab": {
      "provenance": [],
      "authorship_tag": "ABX9TyPStTjwyf2vVm9rDhS3e5p6",
      "include_colab_link": true
    },
    "kernelspec": {
      "name": "python3",
      "display_name": "Python 3"
    },
    "language_info": {
      "name": "python"
    }
  },
  "cells": [
    {
      "cell_type": "markdown",
      "metadata": {
        "id": "view-in-github",
        "colab_type": "text"
      },
      "source": [
        "<a href=\"https://colab.research.google.com/github/GerardMorenoC/programacio/blob/main/if_.ipynb\" target=\"_parent\"><img src=\"https://colab.research.google.com/assets/colab-badge.svg\" alt=\"Open In Colab\"/></a>"
      ]
    },
    {
      "cell_type": "markdown",
      "source": [
        "Pregunteu a la variable mitjançant el type quin tipus de funció és. Un cop li hagueu preguntat si la resposta és un numero sencer cal que el programa us digui 'escriu el nombre no sencer o decimal' sinó, caldra que imprimeixi el valor de \"nines\"."
      ],
      "metadata": {
        "id": "Mk7G-ihZte2H"
      }
    },
    {
      "cell_type": "code",
      "source": [
        "nines=20\n",
        "print(type(nines))\n",
        "\n",
        "if nines is int:\n",
        "  print('Es un nombre sencer')\n",
        "  print(float(nines))\n",
        "\n",
        "else:\n",
        "  print('Escriu un nombre sencer')"
      ],
      "metadata": {
        "colab": {
          "base_uri": "https://localhost:8080/"
        },
        "id": "Gsktrnj0tsN3",
        "outputId": "b04ca01f-7eee-4d65-86b5-26454f87afd5"
      },
      "execution_count": null,
      "outputs": [
        {
          "output_type": "stream",
          "name": "stdout",
          "text": [
            "<class 'int'>\n",
            "Es un altre tipus de nines\n"
          ]
        }
      ]
    },
    {
      "cell_type": "markdown",
      "source": [
        "variables: llibres 5€, punt de llibre 1.5€, portallibres 10€.\n",
        "calculs\n",
        "variables a part\n",
        "-sí -sinó"
      ],
      "metadata": {
        "id": "GvvSb0SitkMv"
      }
    },
    {
      "cell_type": "code",
      "source": [
        "llibres=float(input('Quants llibres compres?'))\n",
        "punt_de_llibre=float(input('Quants punts de llibres compres?'))\n",
        "portallibres=float(input('Quants portallibres compres?'))\n",
        "\n",
        "preu=((llibres*5)+(punt_de_llibre*1.5)+(portallibres*10))\n",
        "\n",
        "if (preu%2==0):\n",
        "  print('Cal que sigui float')\n",
        "else:\n",
        "  print('El preu final es', preu)\n"
      ],
      "metadata": {
        "colab": {
          "base_uri": "https://localhost:8080/"
        },
        "id": "S4EjcR8HksoQ",
        "outputId": "de081b54-9388-4d98-8529-1496622f42ba"
      },
      "execution_count": null,
      "outputs": [
        {
          "output_type": "stream",
          "name": "stdout",
          "text": [
            "Quants llibres compres?2\n",
            "Quants punts de llibres compres?1\n",
            "Quants portallibres compres?1\n",
            "El preu final es 21.5\n"
          ]
        }
      ]
    }
  ]
}